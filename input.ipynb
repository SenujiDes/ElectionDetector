import pandas as pd

# You can read a single sheet, or all at once:
df = pd.read_excel('input.xlsx', sheet_name='Sheet1')
# or
all_sheets = pd.read_excel('input.xlsx', sheet_name=None)  # dict of DataFrames
